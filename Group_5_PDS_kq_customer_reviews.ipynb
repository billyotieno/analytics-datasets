{
  "cells": [
    {
      "cell_type": "markdown",
      "metadata": {
        "id": "view-in-github",
        "colab_type": "text"
      },
      "source": [
        "<a href=\"https://colab.research.google.com/github/billyotieno/analytics-datasets/blob/main/Group_5_PDS_kq_customer_reviews.ipynb\" target=\"_parent\"><img src=\"https://colab.research.google.com/assets/colab-badge.svg\" alt=\"Open In Colab\"/></a>"
      ]
    },
    {
      "cell_type": "markdown",
      "metadata": {
        "id": "jNpZkgLrpWiF"
      },
      "source": [
        "# **Kenya Airways & Industry Airline Customer Reviews Analysis Notebook**\n",
        "\n",
        "\n",
        "---\n",
        " \n",
        "![Kenya Airways Image](https://www.kindpng.com/picc/m/337-3373993_kenya-airways-hd-png-download.png)\n",
        "\n",
        "> ## **Introduction**   \n",
        "> Kenya Airways receives airline reviews from trip advisors from both local, continental and international travellers. Their customer service team would like to extract insights from their customer reviews on TripAdvisor and conduct competitor analysis of the top 10 airlines from Skytrax Ranking to discover their competitive edge and where they fall short. \n",
        "\n",
        "> However, they need help analyzing reviews due to the large volume of customer reviews they have to go through manually. It's time-consuming and resource-intensive. Additionally, there’s a challenge in identifying common trends and themes in customer feedback, considering customers provide review feedback on a wide range of topics, e.g. quality of food to their in-flight experiences.\n",
        "\n",
        "> In this notebook we will be using text mining and sentiment analysis to process and analyze customer reviews to help Kenya Airways overcome these challenges through Data Science & Analytics. This would allow the airline to quickly and efficiently gain insights from the data and identify common issues and trends in customer feedback. The airline could then use this information to improve its products and services and provide better support to its customers.\n",
        "\n",
        "> ## **Dataset Source**   \n",
        "> To meet the objectives of the analysis we've extracted Airline customer reviews feedback from TripAdvisor for Kenya Airways and the top 10 leading airlines in Africa by SkyTrack Ranking. This datasets will help us analyze reviews both at organization level (Kenya Airways) and how it compares to Industry (9 other airlines).\n",
        "\n",
        "Datasets can be accessed through github repository via [This Link](https://github.com/billyotieno/analytics-datasets/tree/main/Transport%20Services/Airlines/african-airlines-reviews-dataset)\n"
      ]
    },
    {
      "cell_type": "markdown",
      "metadata": {
        "id": "DM0RD92SwuJF"
      },
      "source": [
        "# **Table of Contents**"
      ]
    },
    {
      "cell_type": "markdown",
      "source": [
        ">[Kenya Airways & Industry Airline Customer Reviews Analysis Notebook](#scrollTo=jNpZkgLrpWiF)\n",
        "\n",
        ">>[Introduction](#scrollTo=jNpZkgLrpWiF)\n",
        "\n",
        ">>[Dataset Source](#scrollTo=jNpZkgLrpWiF)\n",
        "\n",
        ">[Table of Contents](#scrollTo=DM0RD92SwuJF)\n",
        "\n",
        ">>[Setting up and Installing Required Libraries](#scrollTo=5yvGfaTlygLb)\n",
        "\n",
        ">>[Sourcing Data from the Github Respository](#scrollTo=j4rYvvQ61Ps7)\n",
        "\n",
        ">>[Importing Required Libraries](#scrollTo=Yuqv8THG2ZXG)\n",
        "\n",
        ">>[Loading Data into DataFrames](#scrollTo=sII_fRkJpVcT)\n",
        "\n",
        ">>[Initial Data Exploration](#scrollTo=L6LOVnaX0mhI)\n",
        "\n",
        ">>>[Renaming Columns to Clear Columns](#scrollTo=RdNUoUxq9XNA)\n",
        "\n",
        ">>>[Checking Dataset Shape](#scrollTo=aB5iN376RWDo)\n",
        "\n",
        ">>>[Checking DataTypes](#scrollTo=8WxPPNl0RcRH)\n",
        "\n",
        ">>>[Checking for Missing Values](#scrollTo=8oOLLEXfRfj8)\n",
        "\n",
        ">>>[Dataset Description](#scrollTo=pYf9YG2GRjIL)\n",
        "\n",
        ">>>[Initial Data Cleaning: Overlapped Text](#scrollTo=n6Peyes6Rowq)\n",
        "\n",
        ">>[Data Exploration: Focused on Non-Review Columns](#scrollTo=bO-JbEUMR30e)\n",
        "\n",
        ">>>[Total Number of Reviews by Airlines](#scrollTo=xjZz7X0gRw9q)\n",
        "\n",
        ">>>[Flight Types or Regions Travelled by Reviewers for Each Airline](#scrollTo=kZe6gvL1SO-T)\n",
        "\n",
        ">>>[Distribution of Ratings (1 -5)](#scrollTo=dVmmWr8LSjsC)\n",
        "\n",
        ">>>[Average Rating Across the Airlines for the Various Travel Classes](#scrollTo=aFC4ts_yTchJ)\n",
        "\n",
        ">>>[Data Cleaning: Correcting Travel Month Column](#scrollTo=znqKrX7ZTtpb)\n",
        "\n",
        ">>>[Exploring Review Ratings by Airline and Flight Travel Class](#scrollTo=FzY5o-D7T2cU)\n",
        "\n",
        ">>>[Exploring Review Ratings by Airlines across Regions](#scrollTo=ET3DkYQyt0rf)\n",
        "\n",
        ">>>[Breakdown of Airlines by Respective Travel Classes](#scrollTo=wvNVWzd8uk0Z)\n",
        "\n",
        ">>[Data Exploration: Focused on Review Text](#scrollTo=R5Fe-nXgZ3G7)\n",
        "\n",
        ">>>[Checking for NaNs in Extracted Review Columns](#scrollTo=3KTia-Ad8L6w)\n",
        "\n",
        ">>>[Features distributions into Boolean, Categorical and Numerical types](#scrollTo=YvyCIsjiAseg)\n",
        "\n",
        ">>>[Plotting the correlation matrix for the features](#scrollTo=6V63NJ4jBlXl)\n",
        "\n",
        ">>[Data Quality Summary](#scrollTo=1ZosZNZ4mAvp)\n",
        "\n",
        ">>[Data Preparation](#scrollTo=MqaDRPCsq64H)\n",
        "\n",
        ">>>[Merging the two Datasets - Text Profiled & Non-Review Dataset](#scrollTo=zDXZ9KbArND8)\n",
        "\n"
      ],
      "metadata": {
        "colab_type": "toc",
        "id": "sJ96jWl7n0mu"
      }
    },
    {
      "cell_type": "markdown",
      "metadata": {
        "id": "5yvGfaTlygLb"
      },
      "source": [
        "## **Setting up and Installing Required Libraries**"
      ]
    },
    {
      "cell_type": "code",
      "execution_count": 61,
      "metadata": {
        "id": "JVb_qF2RXIQK"
      },
      "outputs": [],
      "source": [
        "# Installing required libraries (-q quiet installing all libraries)\n",
        "! pip install -q pandas pandera numpy matplotlib seaborn textblob dask missingno wordcloud\n",
        "! pip install -q fasttext "
      ]
    },
    {
      "cell_type": "code",
      "execution_count": 62,
      "metadata": {
        "id": "Q8R76pIM-5NM",
        "colab": {
          "base_uri": "https://localhost:8080/"
        },
        "outputId": "bc6270c7-fc79-4d0f-aa0b-15701af3e5e0"
      },
      "outputs": [
        {
          "output_type": "stream",
          "name": "stdout",
          "text": [
            "  Preparing metadata (setup.py) ... \u001b[?25l\u001b[?25hdone\n",
            "\u001b[2K     \u001b[90m━━━━━━━━━━━━━━━━━━━━━━━━━━━━━━━━━━━━━━━━\u001b[0m \u001b[32m78.5/78.5 KB\u001b[0m \u001b[31m1.9 MB/s\u001b[0m eta \u001b[36m0:00:00\u001b[0m\n",
            "\u001b[?25h\u001b[31mERROR: pip's dependency resolver does not currently take into account all the packages that are installed. This behaviour is the source of the following dependency conflicts.\n",
            "nlp-profiler 0.0.3 requires tqdm==4.46.0, but you have tqdm 4.64.1 which is incompatible.\u001b[0m\u001b[31m\n",
            "\u001b[0m"
          ]
        }
      ],
      "source": [
        "# Install pandas profiling - required for initial exporation\n",
        "!pip install -q https://github.com/pandas-profiling/pandas-profiling/archive/master.zip"
      ]
    },
    {
      "cell_type": "code",
      "execution_count": 63,
      "metadata": {
        "colab": {
          "base_uri": "https://localhost:8080/"
        },
        "id": "ICXczVQ0D5Od",
        "outputId": "c3559a5d-486c-4dd1-8d4e-7c034812b92c"
      },
      "outputs": [
        {
          "output_type": "stream",
          "name": "stdout",
          "text": [
            "  Installing build dependencies ... \u001b[?25l\u001b[?25hdone\n",
            "  Getting requirements to build wheel ... \u001b[?25l\u001b[?25hdone\n",
            "  Preparing metadata (pyproject.toml) ... \u001b[?25l\u001b[?25hdone\n",
            "\u001b[31mERROR: pip's dependency resolver does not currently take into account all the packages that are installed. This behaviour is the source of the following dependency conflicts.\n",
            "panel 0.12.1 requires tqdm>=4.48.0, but you have tqdm 4.46.0 which is incompatible.\n",
            "pandas-profiling 0.0.dev0 requires tqdm<4.65,>=4.48.2, but you have tqdm 4.46.0 which is incompatible.\u001b[0m\u001b[31m\n",
            "\u001b[0m"
          ]
        }
      ],
      "source": [
        "# Install NLP Profiler for text datasets\n",
        "# !pip install -U -q git+https://github.com/neomatrix369/nlp_profiler@scale-when-applied-to-larger-datasets\n",
        "# print(\"\\n Installation Completed\")\n",
        "\n",
        "!pip install -U -q git+https://github.com/neomatrix369/nlp_profiler.git@master"
      ]
    },
    {
      "cell_type": "markdown",
      "metadata": {
        "id": "j4rYvvQ61Ps7"
      },
      "source": [
        "## **Sourcing Data from the Github Respository**"
      ]
    },
    {
      "cell_type": "code",
      "execution_count": 64,
      "metadata": {
        "colab": {
          "base_uri": "https://localhost:8080/"
        },
        "id": "EyNa01Ob1PXD",
        "outputId": "723ec2ab-5e31-4b63-d292-d2d1213aee38"
      },
      "outputs": [
        {
          "output_type": "stream",
          "name": "stdout",
          "text": [
            "kenya_airways_fligh 100%[===================>]   2.64M  --.-KB/s    in 0.07s   \n",
            "air_mauritius.csv   100%[===================>]   1.46M  --.-KB/s    in 0.06s   \n",
            "egypt_airways.csv   100%[===================>]   2.77M  --.-KB/s    in 0.07s   \n",
            "ethiopian_airlines. 100%[===================>]   2.84M  --.-KB/s    in 0.07s   \n",
            "fastjet_flights.csv 100%[===================>] 260.37K  --.-KB/s    in 0.03s   \n",
            "flysafair_flights.c 100%[===================>] 919.14K  --.-KB/s    in 0.05s   \n",
            "royal_air_maroc.csv 100%[===================>]   2.11M  --.-KB/s    in 0.06s   \n",
            "rwand_air_flights.c 100%[===================>] 575.57K  --.-KB/s    in 0.04s   \n",
            "seychelles_airways. 100%[===================>] 451.21K  --.-KB/s    in 0.04s   \n",
            "south_african_airwa 100%[===================>]   2.97M  --.-KB/s    in 0.07s   \n"
          ]
        }
      ],
      "source": [
        "from google.colab import files\n",
        "\n",
        "# Create an airline-datasets directory on google colab to host the files\n",
        "!rm -rf airline-datasets\n",
        "!mkdir -p airline-datasets\n",
        "!cd airline-datasets\n",
        "\n",
        "# fetch all the datasets\n",
        "!wget -q --show-progress \"https://raw.githubusercontent.com/billyotieno/analytics-datasets/main/Transport Services/Airlines/african-airlines-reviews-dataset/kenya_airways_flights.csv\" -P ./airline-datasets\n",
        "!wget -q --show-progress \"https://raw.githubusercontent.com/billyotieno/analytics-datasets/main/Transport Services/Airlines/african-airlines-reviews-dataset/air_mauritius.csv\" -P ./airline-datasets\n",
        "!wget -q --show-progress \"https://raw.githubusercontent.com/billyotieno/analytics-datasets/main/Transport Services/Airlines/african-airlines-reviews-dataset/egypt_airways.csv\" -P ./airline-datasets\n",
        "!wget -q --show-progress \"https://raw.githubusercontent.com/billyotieno/analytics-datasets/main/Transport Services/Airlines/african-airlines-reviews-dataset/ethiopian_airlines.csv\" -P ./airline-datasets\n",
        "!wget -q --show-progress \"https://raw.githubusercontent.com/billyotieno/analytics-datasets/main/Transport Services/Airlines/african-airlines-reviews-dataset/fastjet_flights.csv\" -P ./airline-datasets\n",
        "!wget -q --show-progress \"https://raw.githubusercontent.com/billyotieno/analytics-datasets/main/Transport Services/Airlines/african-airlines-reviews-dataset/flysafair_flights.csv\" -P ./airline-datasets\n",
        "!wget -q --show-progress \"https://raw.githubusercontent.com/billyotieno/analytics-datasets/main/Transport Services/Airlines/african-airlines-reviews-dataset/royal_air_maroc.csv\" -P ./airline-datasets\n",
        "!wget -q --show-progress \"https://raw.githubusercontent.com/billyotieno/analytics-datasets/main/Transport Services/Airlines/african-airlines-reviews-dataset/rwand_air_flights.csv\" -P ./airline-datasets\n",
        "!wget -q --show-progress \"https://raw.githubusercontent.com/billyotieno/analytics-datasets/main/Transport Services/Airlines/african-airlines-reviews-dataset/seychelles_airways.csv\" -P ./airline-datasets\n",
        "!wget -q --show-progress \"https://raw.githubusercontent.com/billyotieno/analytics-datasets/main/Transport Services/Airlines/african-airlines-reviews-dataset/south_african_airways.csv\" -P ./airline-datasets"
      ]
    },
    {
      "cell_type": "markdown",
      "metadata": {
        "id": "Yuqv8THG2ZXG"
      },
      "source": [
        "## **Importing Required Libraries**"
      ]
    },
    {
      "cell_type": "code",
      "execution_count": 65,
      "metadata": {
        "colab": {
          "base_uri": "https://localhost:8080/",
          "height": 383
        },
        "id": "Ae9LO-162Y-H",
        "outputId": "47a81f98-1145-4d42-90ba-fe61cd44e379"
      },
      "outputs": [
        {
          "output_type": "error",
          "ename": "ModuleNotFoundError",
          "evalue": "ignored",
          "traceback": [
            "\u001b[0;31m---------------------------------------------------------------------------\u001b[0m",
            "\u001b[0;31mModuleNotFoundError\u001b[0m                       Traceback (most recent call last)",
            "\u001b[0;32m<ipython-input-65-5d4d0db6a64a>\u001b[0m in \u001b[0;36m<module>\u001b[0;34m\u001b[0m\n\u001b[1;32m     11\u001b[0m \u001b[0;32mimport\u001b[0m \u001b[0mwarnings\u001b[0m\u001b[0;34m\u001b[0m\u001b[0;34m\u001b[0m\u001b[0m\n\u001b[1;32m     12\u001b[0m \u001b[0;32mimport\u001b[0m \u001b[0minflect\u001b[0m \u001b[0;31m# converting numbers in text to words\u001b[0m\u001b[0;34m\u001b[0m\u001b[0;34m\u001b[0m\u001b[0m\n\u001b[0;32m---> 13\u001b[0;31m \u001b[0;32mimport\u001b[0m \u001b[0mwordclous\u001b[0m\u001b[0;34m\u001b[0m\u001b[0;34m\u001b[0m\u001b[0m\n\u001b[0m\u001b[1;32m     14\u001b[0m \u001b[0;32mimport\u001b[0m \u001b[0mmissingno\u001b[0m \u001b[0;32mas\u001b[0m \u001b[0mmsno\u001b[0m\u001b[0;34m\u001b[0m\u001b[0;34m\u001b[0m\u001b[0m\n\u001b[1;32m     15\u001b[0m \u001b[0;32mfrom\u001b[0m \u001b[0mpandas_profiling\u001b[0m \u001b[0;32mimport\u001b[0m \u001b[0mProfileReport\u001b[0m\u001b[0;34m\u001b[0m\u001b[0;34m\u001b[0m\u001b[0m\n",
            "\u001b[0;31mModuleNotFoundError\u001b[0m: No module named 'wordclous'",
            "",
            "\u001b[0;31m---------------------------------------------------------------------------\u001b[0;32m\nNOTE: If your import is failing due to a missing package, you can\nmanually install dependencies using either !pip or !apt.\n\nTo view examples of installing some common dependencies, click the\n\"Open Examples\" button below.\n\u001b[0;31m---------------------------------------------------------------------------\u001b[0m\n"
          ],
          "errorDetails": {
            "actions": [
              {
                "action": "open_url",
                "actionText": "Open Examples",
                "url": "/notebooks/snippets/importing_libraries.ipynb"
              }
            ]
          }
        }
      ],
      "source": [
        "# Import required libraries\n",
        "import pandas as pd\n",
        "import pandera as pn\n",
        "import dask \n",
        "import seaborn as sns\n",
        "import spacy\n",
        "import re\n",
        "import nltk\n",
        "import string\n",
        "import fasttext\n",
        "import warnings\n",
        "import inflect # converting numbers in text to words\n",
        "import wordclous\n",
        "import missingno as msno\n",
        "from pandas_profiling import ProfileReport\n",
        "from nlp_profiler.core import apply_text_profiling\n",
        "\n",
        "from nltk.tokenize import word_tokenize\n",
        "from nltk.corpus import stopwords, wordnet\n",
        "from nltk.stem import WordNetLemmatizer\n",
        "import nltk\n",
        "from nltk import wordpunct_tokenize\n",
        "import matplotlib.pyplot as plt\n",
        "\n",
        "# Pandas settings\n",
        "pd.options.mode.chained_assignment = None\n",
        "pd.set_option('display.max_colwidth', 20)\n",
        "pd.options.display.max_rows = 4000\n",
        "from IPython.display import Image\n",
        "\n",
        "%matplotlib inline\n",
        "warnings.filterwarnings(\"ignore\", category=DeprecationWarning)\n",
        "\n",
        "# NLTK Download Options\n",
        "nltk.download('punkt')\n",
        "nltk.download('stopwords')\n",
        "nltk.download('wordnet')\n",
        "nltk.download('omw-1.4')"
      ]
    },
    {
      "cell_type": "code",
      "source": [
        "# Visualization Fonts\n",
        "!wget -O IBM_Sans.zip \"https://fonts.google.com/download?family=IBM%20Plex%20Sans\"\n",
        "!wget -O McKinsey_Bower.zip \"https://cdn.mckinsey.com/assets/fonts/web/Bower_Fonts.zip\""
      ],
      "metadata": {
        "id": "yqXN6Jt-_7uL"
      },
      "execution_count": null,
      "outputs": []
    },
    {
      "cell_type": "code",
      "source": [
        "!unzip -o '*.zip'"
      ],
      "metadata": {
        "id": "AfGLUR5-hxBn"
      },
      "execution_count": null,
      "outputs": []
    },
    {
      "cell_type": "code",
      "source": [
        "!mv *.ttf /usr/share/fonts/truetype/\n",
        "!mv *.otf /usr/share/fonts/truetype/"
      ],
      "metadata": {
        "id": "XQRnqB5jibay"
      },
      "execution_count": null,
      "outputs": []
    },
    {
      "cell_type": "markdown",
      "metadata": {
        "id": "sII_fRkJpVcT"
      },
      "source": [
        "## **Loading Data into DataFrames**"
      ]
    },
    {
      "cell_type": "code",
      "execution_count": null,
      "metadata": {
        "id": "lQJICKuI1-Ih"
      },
      "outputs": [],
      "source": [
        "from pathlib import Path \n",
        "\n",
        "path = \"./airline-datasets/\"\n",
        "files = Path(path).glob('*.csv')"
      ]
    },
    {
      "cell_type": "code",
      "execution_count": null,
      "metadata": {
        "id": "qzGd4yEj8OcO"
      },
      "outputs": [],
      "source": [
        "# Read data into dataframe with a new column identifying airline dataset\n",
        "dfs = list()\n",
        "for f in files:\n",
        "  data = pd.read_csv(f, \n",
        "                     usecols=['Title','Image','Avatar_URL',\n",
        "                              'crvsd','ui_header_link','default',\n",
        "                              'phmbo','phmbo1','dmrsr','dmrsr2','dmrsr3',\n",
        "                              'qwuub_URL','qwuub','tehyy','xcjrc',\n",
        "                              'Rating'])\n",
        "  data['source'] = f.stem\n",
        "  dfs.append(data)"
      ]
    },
    {
      "cell_type": "code",
      "execution_count": null,
      "metadata": {
        "id": "HJQXNtnI-Bwn"
      },
      "outputs": [],
      "source": [
        "df = pd.concat(dfs, ignore_index=True)\n",
        "df.head()"
      ]
    },
    {
      "cell_type": "markdown",
      "source": [
        "## **Initial Data Exploration**"
      ],
      "metadata": {
        "id": "L6LOVnaX0mhI"
      }
    },
    {
      "cell_type": "markdown",
      "source": [
        "### **Renaming Columns to Clear Columns**"
      ],
      "metadata": {
        "id": "RdNUoUxq9XNA"
      }
    },
    {
      "cell_type": "code",
      "source": [
        "# Rename dataset to clear & understandable columns\n",
        "column_rename = {\n",
        "    'Title':'review', \n",
        "    'Image':'review_image', \n",
        "    'Avatar_URL':'avatar_url', \n",
        "    'crvsd':'writing_month', \n",
        "    'ui_header_link':'reviewer_username', \n",
        "    'default':'reviewer_city',\n",
        "    'phmbo':'reviewer_contribution', \n",
        "    'phmbo1':'helpful_votes', \n",
        "    'dmrsr':'flight_path', \n",
        "    'dmrsr2':'flight_type', \n",
        "    'dmrsr3':'travel_class', \n",
        "    'qwuub_URL':'review_link', \n",
        "    'qwuub':'review_headline',\n",
        "    'tehyy':'travel_month', \n",
        "    'xcjrc':'disclaimer', \n",
        "    'Rating':'review_rating', \n",
        "    'source':'airline'\n",
        "}\n",
        "\n",
        "df.rename(columns=column_rename, inplace=True)"
      ],
      "metadata": {
        "id": "C0GVqGL1QYFE"
      },
      "execution_count": null,
      "outputs": []
    },
    {
      "cell_type": "code",
      "source": [
        "# Proper Naming for Airlines\n",
        "df['airline'] = df.airline.astype('category')\n",
        "df['airline'] = df['airline'].cat.rename_categories({\n",
        "  'air_mauritius':'Air Mauritius',\n",
        "  'egypt_airways':'Egypt Air',\n",
        "  'ethiopian_airlines':'Ethiopian Airlines',\n",
        "  'fastjet_flights':'FastJet',\n",
        "  'flysafair_flights':'FlySafair',\n",
        "  'kenya_airways_flights':'Kenya Airways',\n",
        "  'royal_air_maroc':'Royal Air Maroc',\n",
        "  'rwand_air_flights':'RwandAir',\n",
        "  'seychelles_airways':'Air Seychelles',\n",
        "  'south_african_airways':'South African Airways',\n",
        "})"
      ],
      "metadata": {
        "id": "pC55C44hsArk"
      },
      "execution_count": null,
      "outputs": []
    },
    {
      "cell_type": "code",
      "source": [
        "# Check new columns\n",
        "df.columns"
      ],
      "metadata": {
        "id": "BkvOC04BZqe6"
      },
      "execution_count": null,
      "outputs": []
    },
    {
      "cell_type": "markdown",
      "source": [
        "### **Checking Dataset Shape**"
      ],
      "metadata": {
        "id": "aB5iN376RWDo"
      }
    },
    {
      "cell_type": "code",
      "source": [
        "# Checking dataframe shape\n",
        "df.shape"
      ],
      "metadata": {
        "id": "oqWpX_6q0GGs"
      },
      "execution_count": null,
      "outputs": []
    },
    {
      "cell_type": "markdown",
      "source": [
        "### **Checking DataTypes**"
      ],
      "metadata": {
        "id": "8WxPPNl0RcRH"
      }
    },
    {
      "cell_type": "code",
      "source": [
        "# Checking datatypes\n",
        "df.dtypes"
      ],
      "metadata": {
        "id": "0rFs-ALC1JI0"
      },
      "execution_count": null,
      "outputs": []
    },
    {
      "cell_type": "markdown",
      "source": [
        "### **Checking for Missing Values**"
      ],
      "metadata": {
        "id": "8oOLLEXfRfj8"
      }
    },
    {
      "cell_type": "code",
      "source": [
        "# Check for Missing Values\n",
        "msno.matrix(df)"
      ],
      "metadata": {
        "id": "hMn56GXvfZym"
      },
      "execution_count": null,
      "outputs": []
    },
    {
      "cell_type": "markdown",
      "source": [
        "### **Dataset Description**"
      ],
      "metadata": {
        "id": "pYf9YG2GRjIL"
      }
    },
    {
      "cell_type": "code",
      "source": [
        "# Checking dataframe description\n",
        "df.describe(include='all')"
      ],
      "metadata": {
        "id": "2qJA14sG09Sp"
      },
      "execution_count": null,
      "outputs": []
    },
    {
      "cell_type": "code",
      "source": [
        "#Getting the total number of reviews in the dataset\n",
        "n_reviews = df.shape[0]\n",
        "print('Number of customer reviews in the dataset: {:d}'.format(n_reviews))"
      ],
      "metadata": {
        "id": "aw93Yk7fo2D3"
      },
      "execution_count": null,
      "outputs": []
    },
    {
      "cell_type": "markdown",
      "source": [
        "### **Initial Data Cleaning: Overlapped Text**"
      ],
      "metadata": {
        "id": "n6Peyes6Rowq"
      }
    },
    {
      "cell_type": "code",
      "source": [
        "# Initial dataset cleaning to support exploration\n",
        "def remove_overlapped_text(df):\n",
        "  df = df.copy()\n",
        "  index = df[(df[\"travel_class\"] != \"Economy\") & (df[\"travel_class\"] != \"Business Class\") & (df[\"travel_class\"] != \"First Class\")].index \n",
        "  df.drop(index, inplace=True)\n",
        "  df.reset_index(drop=True, inplace=True)\n",
        "  return df\n",
        "\n",
        "df = remove_overlapped_text(df)\n",
        "df.shape"
      ],
      "metadata": {
        "id": "FzZZm0GZReWP"
      },
      "execution_count": null,
      "outputs": []
    },
    {
      "cell_type": "markdown",
      "source": [
        "## **Data Exploration: Focused on Non-Review Columns**"
      ],
      "metadata": {
        "id": "bO-JbEUMR30e"
      }
    },
    {
      "cell_type": "markdown",
      "source": [
        "### **Total Number of Reviews by Airlines**"
      ],
      "metadata": {
        "id": "xjZz7X0gRw9q"
      }
    },
    {
      "cell_type": "code",
      "source": [
        "import matplotlib.font_manager as fm\n",
        "viz_color = \"#102747\"\n",
        "\n",
        "# path = '/usr/share/fonts/truetype/IBMPlexSans-Regular.ttf'\n",
        "path = '/usr/share/fonts/truetype/Bower-Bold.otf'\n",
        "fontprop = fm.FontProperties(fname=path)\n",
        "\n",
        "\n",
        "sns.set_theme(style=\"whitegrid\")\n",
        "fig, ax = plt.subplots(figsize=(12,8))\n",
        "\n",
        "plt.suptitle(\"Number of Reviews by Airline\", ha='left', fontproperties=fontprop, fontsize=40, x=0.125, y=0.98)\n",
        "plt.title(\"Showing distribution of reviews per Airline\", loc='left',alpha=0.9, fontproperties=fontprop, fontsize=20)\n",
        "\n",
        "sns.countplot(data=df, y=\"airline\", ax=ax, color=viz_color, order=df['airline'].value_counts().index)\n",
        "\n",
        "plt.xticks(fontproperties=fontprop, fontsize=15)\n",
        "plt.yticks(fontproperties=fontprop, fontsize=15)\n",
        "plt.xlabel('Airlines', fontproperties=fontprop, fontsize=20)\n",
        "plt.ylabel('Number of Reviews', fontproperties=fontprop, fontsize=20)\n",
        "\n",
        "# ax.set(ylabel=\"Airlines\", xlabel=\"Number of Reviews\")\n",
        "\n",
        "plt.show()"
      ],
      "metadata": {
        "id": "n0LVZ1BIUB6e"
      },
      "execution_count": null,
      "outputs": []
    },
    {
      "cell_type": "markdown",
      "source": [
        "### **Flight Types or Regions Travelled by Reviewers for Each Airline**"
      ],
      "metadata": {
        "id": "kZe6gvL1SO-T"
      }
    },
    {
      "cell_type": "code",
      "source": [
        "# What are the most common flight types across the various airlines experience by reviewers?\n",
        "airline_flight_type = df.groupby(['airline', 'flight_type']).size().reset_index().pivot(columns='flight_type', index='airline', values=0)\n",
        "airline_flight_type"
      ],
      "metadata": {
        "id": "2tmyxj04Dwg_"
      },
      "execution_count": null,
      "outputs": []
    },
    {
      "cell_type": "markdown",
      "source": [
        "### **Distribution of Ratings (1 -5)**"
      ],
      "metadata": {
        "id": "dVmmWr8LSjsC"
      }
    },
    {
      "cell_type": "code",
      "source": [
        "# What is the distribution of Ratings in the review dataset??\n",
        "# Clean up review rating & convert column into ratings / interger\n",
        "df.review_rating = df.review_rating.str[-2:]\n",
        "df.review_rating = df.review_rating.astype(int) / 10\n",
        "df.review_rating.value_counts().plot(kind=\"barh\")"
      ],
      "metadata": {
        "id": "1WAqUlFeV1Nw"
      },
      "execution_count": null,
      "outputs": []
    },
    {
      "cell_type": "markdown",
      "source": [
        "### **Average Rating Across the Airlines for the Various Travel Classes**"
      ],
      "metadata": {
        "id": "aFC4ts_yTchJ"
      }
    },
    {
      "cell_type": "code",
      "source": [
        "# Whats the average rating experience by travellers within KQ and across the various airlines in the different classes?\n",
        "import numpy as np\n",
        "\n",
        "plt.figure(figsize=(12, 8), dpi= 80)\n",
        "airline_class_review = df.groupby(['airline', 'travel_class']).agg({'review_rating':[np.mean]}).reset_index().pivot(columns=\"travel_class\", index=\"airline\").droplevel(0, axis=1).droplevel(0, axis=1) \n",
        "airline_class_review"
      ],
      "metadata": {
        "id": "kyC_u2CZH1Or"
      },
      "execution_count": null,
      "outputs": []
    },
    {
      "cell_type": "markdown",
      "source": [
        "### **Data Cleaning: Correcting Travel Month Column**"
      ],
      "metadata": {
        "id": "znqKrX7ZTtpb"
      }
    },
    {
      "cell_type": "code",
      "source": [
        "# Clean Travel Month\n",
        "df.travel_month = df.travel_month.str[16:]\n",
        "df.travel_month"
      ],
      "metadata": {
        "id": "FDHwdVa_XD7D"
      },
      "execution_count": null,
      "outputs": []
    },
    {
      "cell_type": "code",
      "source": [
        "df['travel_year'] = df.travel_month.str[-4:]\n",
        "df.travel_year.head()"
      ],
      "metadata": {
        "id": "U0JYUGaqZUJH"
      },
      "execution_count": null,
      "outputs": []
    },
    {
      "cell_type": "code",
      "source": [
        "# Assumptions, due to extraction error, we'll convert 25** years to 2022\n",
        "df.isna().sum()"
      ],
      "metadata": {
        "id": "M1spEvbebzh0"
      },
      "execution_count": null,
      "outputs": []
    },
    {
      "cell_type": "markdown",
      "source": [
        "### **Exploring Review Ratings by Airline and Flight Travel Class**"
      ],
      "metadata": {
        "id": "FzY5o-D7T2cU"
      }
    },
    {
      "cell_type": "code",
      "source": [
        "sns.set_theme(style=\"whitegrid\")\n",
        "fig, ax = plt.subplots(figsize=(12,8))\n",
        "\n",
        "plt.suptitle(\"Heatmap of reviews by Airline, Travel Class\", ha='left', fontproperties=fontprop, fontsize=30, x=0.125, y=1)\n",
        "plt.title(\"Most airlines tend to have good ratings for their Business Class compared to Economy. \\n\", \n",
        "          loc='left', alpha=0.9, fontproperties=fontprop, fontsize=15)\n",
        "\n",
        "sns.heatmap(airline_class_review, cmap=\"Blues\", linewidth=1, linecolor=\"#F4F4F4\", cbar_kws = {\"location\":\"bottom\", \"use_gridspec\":False})\n",
        "\n",
        "plt.xticks(fontproperties=fontprop, fontsize=15)\n",
        "plt.yticks(fontproperties=fontprop, fontsize=15)\n",
        "plt.xlabel('Flight Travel Class', fontproperties=fontprop, fontsize=20)\n",
        "plt.ylabel('Airlines', fontproperties=fontprop, fontsize=20)"
      ],
      "metadata": {
        "id": "b7Fbxu80QFZW"
      },
      "execution_count": null,
      "outputs": []
    },
    {
      "cell_type": "markdown",
      "source": [
        "From the heatmap above, it shows that Travellers have had a great experience with Business Class as opposed to the Economy Class. \n",
        "FlySafari is an exception since it only runs flights in the Economy Class."
      ],
      "metadata": {
        "id": "UgNDhVXqtU4x"
      }
    },
    {
      "cell_type": "markdown",
      "source": [
        "### **Exploring Review Ratings by Airlines across Regions**"
      ],
      "metadata": {
        "id": "ET3DkYQyt0rf"
      }
    },
    {
      "cell_type": "code",
      "source": [
        "sns.set_theme(style=\"whitegrid\")\n",
        "fig, ax = plt.subplots(figsize=(12,8))\n",
        "\n",
        "plt.suptitle(\"Exploring Common Flight Type across Airlines\", ha='left', fontproperties=fontprop, fontsize=30, x=0.125, y=1)\n",
        "plt.title(\"Most of the travel done by airline customers were International followed by Africa. \\n\", \n",
        "          loc='left', alpha=0.9, fontproperties=fontprop, fontsize=15)\n",
        "\n",
        "sns.heatmap(airline_flight_type, cmap=\"Blues\", linewidth=1, linecolor=\"#F4F4F4\")\n",
        "\n",
        "plt.xticks(fontproperties=fontprop, fontsize=15)\n",
        "plt.yticks(fontproperties=fontprop, fontsize=15)\n",
        "plt.xlabel('Flight Type / Regions', fontproperties=fontprop, fontsize=20)\n",
        "plt.ylabel('Airlines', fontproperties=fontprop, fontsize=20)"
      ],
      "metadata": {
        "id": "s9m51NJQLaKU"
      },
      "execution_count": null,
      "outputs": []
    },
    {
      "cell_type": "markdown",
      "source": [
        "From the heatmap above, it shows that most airline travellers took international flights, followed closely by travels to Africa."
      ],
      "metadata": {
        "id": "KZ11-Hh1uOZS"
      }
    },
    {
      "cell_type": "markdown",
      "source": [
        "### **Breakdown of Airlines by Respective Travel Classes**"
      ],
      "metadata": {
        "id": "wvNVWzd8uk0Z"
      }
    },
    {
      "cell_type": "code",
      "source": [
        "airline_travel_class = df.groupby(['airline', 'travel_class']).size().reset_index().pivot(columns='travel_class', index='airline', values=0)\n",
        "airline_travel_class"
      ],
      "metadata": {
        "id": "mxBwJDGxKQuL"
      },
      "execution_count": null,
      "outputs": []
    },
    {
      "cell_type": "code",
      "source": [
        "sns.set_theme(style=\"whitegrid\")\n",
        "fig, ax = plt.subplots(figsize=(12,8))\n",
        "\n",
        "plt.suptitle(\"Travel Classes by Airline\", ha='left', fontproperties=fontprop, fontsize=40, x=0.125, y=0.98)\n",
        "plt.title(\"Graph showing airline travel class experienced by Travelers\", loc='left',alpha=0.9, fontproperties=fontprop, fontsize=20)\n",
        "\n",
        "airline_travel_class.plot(kind=\"barh\", stacked=True, ax=ax, )\n",
        "\n",
        "plt.xticks(fontproperties=fontprop, fontsize=15)\n",
        "plt.yticks(fontproperties=fontprop, fontsize=15)\n",
        "plt.xlabel('Number of Reviews', fontproperties=fontprop, fontsize=20)\n",
        "plt.ylabel('Airlines', fontproperties=fontprop, fontsize=20)"
      ],
      "metadata": {
        "id": "d_QU-cvc94TB"
      },
      "execution_count": null,
      "outputs": []
    },
    {
      "cell_type": "code",
      "source": [
        "fig, ax = plt.subplots(figsize=(12,8))\n",
        "\n",
        "plt.suptitle(\"Top Flight Paths by Reviews\", ha='left', fontproperties=fontprop, fontsize=40, x=0.125, y=0.98)\n",
        "plt.title(\"Flight paths used by customers giving reviews\", loc='left',alpha=0.9, fontproperties=fontprop, fontsize=20)\n",
        "\n",
        "plt.xticks(fontproperties=fontprop, fontsize=12)\n",
        "plt.yticks(fontproperties=fontprop, fontsize=12)\n",
        "\n",
        "df.flight_path.value_counts()[:5].plot(kind='barh', color=viz_color)\n",
        "\n",
        "plt.xlabel('Number of Reviews', fontproperties=fontprop, fontsize=20)\n",
        "plt.ylabel('Flight Paths', fontproperties=fontprop, fontsize=20)"
      ],
      "metadata": {
        "id": "iNpiWbaLUo0l"
      },
      "execution_count": null,
      "outputs": []
    },
    {
      "cell_type": "code",
      "execution_count": null,
      "metadata": {
        "id": "-O-4kPBKiohi"
      },
      "outputs": [],
      "source": [
        "df.describe()"
      ]
    },
    {
      "cell_type": "markdown",
      "source": [],
      "metadata": {
        "id": "nuUrYY0IRM2a"
      }
    },
    {
      "cell_type": "markdown",
      "source": [
        "## **Data Exploration: Focused on Review Text**\n",
        "\n",
        "At this step we drill down into the Review Text, Extract text features and perform an exploratory analysis from the extracted features. This feature will then be used downstream in Modelling Stage."
      ],
      "metadata": {
        "id": "R5Fe-nXgZ3G7"
      }
    },
    {
      "cell_type": "code",
      "execution_count": null,
      "metadata": {
        "id": "sbLSsSUqAgvk"
      },
      "outputs": [],
      "source": [
        "# From the Dataframe we fetch the Review Column and peform text profilling.\n",
        "text_nlp = pd.DataFrame(df, columns=['review'])\n",
        "# Exploring a Sample Review\n",
        "text_nlp[\"review\"][0]"
      ]
    },
    {
      "cell_type": "code",
      "execution_count": null,
      "metadata": {
        "id": "IZetnG3AAoHf"
      },
      "outputs": [],
      "source": [
        "%%script echo skipping\n",
        "# We'll skip this step due to the execution timeline on the notebook.\n",
        "# As an alternative we have saved the files from this output into .csv so that\n",
        "# we only read directly from the CSV files.\n",
        "profile_data = apply_text_profiling(\n",
        "    text_nlp, 'review', \n",
        "    params={'spelling_check': False,\n",
        "            'grammar_check': False,\n",
        "            'ease_of_reading_check':False,\n",
        "            'parallelisation_method': 'default'})\n",
        "\n",
        "# Generating a profiling report into HTML\n",
        "profile_text = ProfileReport(profile_data)\n",
        "profile_text.to_file(\"airline-review-text-profiler-form.html\")\n",
        "\n",
        "# Saving the profiled data to CSV to save on execution\n",
        "profile_data.to_csv(\"airline-review-text-profiled-dataset.csv\")"
      ]
    },
    {
      "cell_type": "code",
      "source": [
        "profile_data = pd.read_csv(\"https://raw.githubusercontent.com/billyotieno/analytics-datasets/main/Transport%20Services/Airlines/airline-review-text-profiled-dataset.csv\")"
      ],
      "metadata": {
        "id": "HuDlBOl4IZsw"
      },
      "execution_count": null,
      "outputs": []
    },
    {
      "cell_type": "code",
      "source": [
        "# Dropping the Unnamed: 0 column created during file export\n",
        "profile_data.drop([\"Unnamed: 0\"], axis=1, inplace=True)\n",
        "profile_data.columns"
      ],
      "metadata": {
        "id": "oyINU8UjawfV"
      },
      "execution_count": null,
      "outputs": []
    },
    {
      "cell_type": "code",
      "source": [
        "# Check the datatypes of the newly created \n",
        "profile_data.dtypes"
      ],
      "metadata": {
        "id": "Z6nPP1hcbNDK"
      },
      "execution_count": null,
      "outputs": []
    },
    {
      "cell_type": "code",
      "source": [
        "# Comparing Common Words used by Different Airlines - we'll use df for this\n",
        "df.columns"
      ],
      "metadata": {
        "id": "iEjNF3QrKksz"
      },
      "execution_count": null,
      "outputs": []
    },
    {
      "cell_type": "code",
      "source": [
        "# Summary of key text statistics\n",
        "print(\"Number of Emojis in Corpus - \", profile_data[\"emoji_count\"].sum())\n",
        "print(\"Number of Punctuations in Corpus - \", profile_data[\"punctuations_count\"].sum())\n",
        "print(\"Number of Stop Words in Corpus - \", profile_data[\"stop_words_count\"].sum())\n",
        "print(\"Number of Dates in Corpus - \", profile_data[\"dates_count\"].sum())\n",
        "print(\"Number of Non-English Character in Corpus - \", profile_data[\"non_english_characters_count\"].sum())\n",
        "print(\"Number of Repeated Whitespaces in Corpus - \", profile_data[\"repeated_whitespaces_count\"].sum())"
      ],
      "metadata": {
        "id": "PzB1YP-Skvof"
      },
      "execution_count": null,
      "outputs": []
    },
    {
      "cell_type": "markdown",
      "source": [
        "### **Checking for NaNs in Extracted Review Columns**"
      ],
      "metadata": {
        "id": "3KTia-Ad8L6w"
      }
    },
    {
      "cell_type": "code",
      "source": [
        "# Percentage of non-null values.\n",
        "filling_rates = 100.*profile_data.count().sort_values(ascending=False)/profile_data.shape[0]\n",
        "print(filling_rates)"
      ],
      "metadata": {
        "id": "iQXTk8YG8SJF"
      },
      "execution_count": null,
      "outputs": []
    },
    {
      "cell_type": "code",
      "source": [
        "values_filling_rates = filling_rates.values\n",
        "text_filling_rates = filling_rates.index.to_list()\n",
        "print(text_filling_rates)"
      ],
      "metadata": {
        "id": "KmiNnrqMIndF"
      },
      "execution_count": null,
      "outputs": []
    },
    {
      "cell_type": "code",
      "source": [
        "plt.figure(figsize=(6,6),dpi=100)\n",
        "sns.set(style=\"whitegrid\")\n",
        "ax = sns.barplot(x=values_filling_rates, y=text_filling_rates,color=\"Red\")\n",
        "ax.set(xlabel='Filling percentage (%)', ylabel='Feature')\n",
        "plt.tight_layout()\n",
        "plt.show()"
      ],
      "metadata": {
        "id": "g9mrf46O_cB0"
      },
      "execution_count": null,
      "outputs": []
    },
    {
      "cell_type": "markdown",
      "source": [
        "### **Features distributions into Boolean, Categorical and Numerical types**"
      ],
      "metadata": {
        "id": "YvyCIsjiAseg"
      }
    },
    {
      "cell_type": "code",
      "source": [
        "df_for_training = profile_data.copy()"
      ],
      "metadata": {
        "id": "kakIf_XPBEV1"
      },
      "execution_count": null,
      "outputs": []
    },
    {
      "cell_type": "code",
      "source": [
        "cols_for_training = df_for_training.columns.to_list()"
      ],
      "metadata": {
        "id": "XvcsTEICA9JC"
      },
      "execution_count": null,
      "outputs": []
    },
    {
      "cell_type": "code",
      "source": [
        "feats_bool = ['recommended',\n",
        "              'has_layover']\n",
        "feats_cat = ['airline',\n",
        "             'traveller_type',\n",
        "             'cabin','review_text', 'review',\n",
        "             'pos_neu_neg_review_score']\n",
        "feats_num = [feat for feat in cols_for_training if feat not in feats_bool and feat not in feats_cat]"
      ],
      "metadata": {
        "id": "APainH04AGyD"
      },
      "execution_count": null,
      "outputs": []
    },
    {
      "cell_type": "code",
      "source": [
        "print('Boolean features: \\n{}\\n'.format(feats_bool))\n",
        "print('Categorical features: \\n{}\\n'.format(feats_cat))\n",
        "print('Numerical features: \\n{}\\n'.format(feats_num))"
      ],
      "metadata": {
        "id": "AULQY-jYBhA3"
      },
      "execution_count": null,
      "outputs": []
    },
    {
      "cell_type": "markdown",
      "source": [
        "### **Plotting the correlation matrix for the features**"
      ],
      "metadata": {
        "id": "6V63NJ4jBlXl"
      }
    },
    {
      "cell_type": "code",
      "source": [
        "# Let's plot a correlation matrix among the features\n",
        "def plot_cmap(matrix_values, figsize_w, figsize_h, filename):\n",
        "    \"\"\"\n",
        "    Plot a heatmap corresponding to the input values.\n",
        "    \"\"\"\n",
        "    if figsize_w is not None and figsize_h is not None:\n",
        "        plt.figure(figsize=(figsize_w,figsize_h))\n",
        "    else:\n",
        "        plt.figure()\n",
        "    cmap = sns.diverging_palette(240, 10, sep=20, as_cmap=True)\n",
        "    sns.heatmap(matrix_values, annot=True, fmt=\".2f\", cmap=cmap, vmin=-1, vmax=1)\n",
        "    plt.savefig(filename)\n",
        "    plt.show()\n",
        "    return cmap\n",
        "\n",
        "corr_values = df_for_training[feats_num].dropna(axis=0,how='any').corr()\n",
        "plot_cmap(matrix_values=corr_values, \n",
        "          figsize_w=17, \n",
        "          figsize_h=17, \n",
        "          filename='./Corr.png')"
      ],
      "metadata": {
        "id": "AKz0ZD1aBrCS"
      },
      "execution_count": null,
      "outputs": []
    },
    {
      "cell_type": "markdown",
      "source": [
        "Note:\n",
        "\n",
        "1. A positive correlation between the different types of review scores and subscores\n",
        "2. A negative correlation between the length of the review text and the value of the different types of review scores and subscores\n",
        "3. The similarity between using the number of characters and the number of words, from which we conclude that we can drop one of the two features"
      ],
      "metadata": {
        "id": "RqKqzSwxCA28"
      }
    },
    {
      "cell_type": "code",
      "source": [
        "corr_matrix = profile_data.corr().abs()\n",
        "\n",
        "# Select upper triangle of correlation matrix\n",
        "upper = corr_matrix.where(np.triu(np.ones(corr_matrix.shape), k=1).astype(np.bool))\n",
        "\n",
        "# Find features with correlation greater than 0.95\n",
        "to_drop = [column for column in upper.columns if any(upper[column] > 0.95)]\n",
        "\n",
        "to_drop"
      ],
      "metadata": {
        "id": "tsdMDQLTvJij"
      },
      "execution_count": null,
      "outputs": []
    },
    {
      "cell_type": "markdown",
      "source": [
        "## **Data Quality Summary**"
      ],
      "metadata": {
        "id": "1ZosZNZ4mAvp"
      }
    },
    {
      "cell_type": "markdown",
      "source": [
        "As an output of our Data Exploration efforts we have been able to identify the following Data Quality Issues within the Review Text and additional columns from the datasets. Below is a summary of our Data Quality findings which informs our Data Preparation Stage:\n",
        "\n",
        "**Data Quality Issues Identified in Non-Review Text Columns**\n",
        "\n",
        "> - *Redundant Columns*   \n",
        "> - *Duplicate Rows*  \n",
        "> - *Wrong Data Types* \n",
        "> - *Missing Values*\n",
        "\n",
        "**Data Quality Issues Identified in Review Text**\n",
        "\n",
        "> - *Extra Whitespaces in Text*. \n",
        "> - *Digitis in Review Text*.  \n",
        "> - *Existing Emoji's in Review Text*.  \n",
        "> - *Punctuations*.  \n",
        "> - *URL's*.  \n",
        "\n",
        "For the review text, the data will be cleaned up at part of text pre-processing."
      ],
      "metadata": {
        "id": "91trJ6e0mKlE"
      }
    },
    {
      "cell_type": "markdown",
      "source": [
        "## **Data Preparation**\n",
        "\n",
        "At this stage we prepare the data for modelling and further analysis."
      ],
      "metadata": {
        "id": "MqaDRPCsq64H"
      }
    },
    {
      "cell_type": "markdown",
      "source": [
        "### **Merging the two Datasets - Text Profiled & Non-Review Dataset**"
      ],
      "metadata": {
        "id": "zDXZ9KbArND8"
      }
    },
    {
      "cell_type": "code",
      "source": [
        "# profile_data\n",
        "profile_data[\"id\"] = profile_data.index\n",
        "df[\"id\"] = df.index"
      ],
      "metadata": {
        "id": "xId35H1JrZ4i"
      },
      "execution_count": null,
      "outputs": []
    },
    {
      "cell_type": "code",
      "source": [
        "review_df = pd.merge(df, profile_data, how=\"left\", on=\"id\")\n",
        "review_df.shape"
      ],
      "metadata": {
        "id": "W381yrSHwJRd"
      },
      "execution_count": null,
      "outputs": []
    },
    {
      "cell_type": "code",
      "source": [
        "df.shape"
      ],
      "metadata": {
        "id": "YIYTrlFt9OxX"
      },
      "execution_count": null,
      "outputs": []
    },
    {
      "cell_type": "code",
      "source": [
        "profile_data.shape"
      ],
      "metadata": {
        "id": "cFjFtqjZ9Q7S"
      },
      "execution_count": null,
      "outputs": []
    },
    {
      "cell_type": "code",
      "source": [
        "review_df.columns"
      ],
      "metadata": {
        "id": "j2rzno12rhNA"
      },
      "execution_count": null,
      "outputs": []
    },
    {
      "cell_type": "markdown",
      "source": [],
      "metadata": {
        "id": "RRu-gfMtrMO1"
      }
    },
    {
      "cell_type": "code",
      "source": [
        "review_df.isna().sum()"
      ],
      "metadata": {
        "id": "a07rqK3amAff"
      },
      "execution_count": null,
      "outputs": []
    },
    {
      "cell_type": "code",
      "source": [
        "df.head()"
      ],
      "metadata": {
        "id": "BJtzElqxuSOG"
      },
      "execution_count": null,
      "outputs": []
    },
    {
      "cell_type": "code",
      "source": [
        "profile_data.head()"
      ],
      "metadata": {
        "id": "E4jsjPwN97Vh"
      },
      "execution_count": null,
      "outputs": []
    },
    {
      "cell_type": "code",
      "source": [
        "df.tail()"
      ],
      "metadata": {
        "id": "f4VKoSEV_Xeh"
      },
      "execution_count": null,
      "outputs": []
    },
    {
      "cell_type": "code",
      "source": [
        "profile_data.tail()"
      ],
      "metadata": {
        "id": "dOz3zjCv_bHY"
      },
      "execution_count": null,
      "outputs": []
    },
    {
      "cell_type": "code",
      "source": [],
      "metadata": {
        "id": "nryLa4mG_imz"
      },
      "execution_count": null,
      "outputs": []
    }
  ],
  "metadata": {
    "colab": {
      "provenance": [],
      "toc_visible": true,
      "collapsed_sections": [
        "5yvGfaTlygLb",
        "Yuqv8THG2ZXG",
        "sII_fRkJpVcT",
        "L6LOVnaX0mhI",
        "RdNUoUxq9XNA",
        "aB5iN376RWDo",
        "8WxPPNl0RcRH",
        "8oOLLEXfRfj8",
        "pYf9YG2GRjIL",
        "n6Peyes6Rowq",
        "bO-JbEUMR30e",
        "xjZz7X0gRw9q",
        "kZe6gvL1SO-T",
        "dVmmWr8LSjsC",
        "aFC4ts_yTchJ",
        "znqKrX7ZTtpb",
        "FzY5o-D7T2cU",
        "ET3DkYQyt0rf",
        "wvNVWzd8uk0Z"
      ],
      "include_colab_link": true
    },
    "gpuClass": "standard",
    "kernelspec": {
      "display_name": "Python 3",
      "name": "python3"
    },
    "language_info": {
      "name": "python"
    }
  },
  "nbformat": 4,
  "nbformat_minor": 0
}